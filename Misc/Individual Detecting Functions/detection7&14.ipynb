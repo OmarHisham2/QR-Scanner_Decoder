{
  "nbformat": 4,
  "nbformat_minor": 0,
  "metadata": {
    "colab": {
      "provenance": []
    },
    "kernelspec": {
      "name": "python3",
      "display_name": "Python 3"
    },
    "language_info": {
      "name": "python"
    }
  },
  "cells": [
    {
      "cell_type": "code",
      "execution_count": 17,
      "metadata": {
        "colab": {
          "base_uri": "https://localhost:8080/"
        },
        "id": "YDs9AM6iVU_A",
        "outputId": "64700cf3-d5d9-4323-b1ac-9c122a10a73d"
      },
      "outputs": [
        {
          "output_type": "stream",
          "name": "stdout",
          "text": [
            "No yellow or skin tone colors detected in the image.\n"
          ]
        }
      ],
      "source": [
        "import cv2\n",
        "import numpy as np\n",
        "image = cv2.imread('/content/01-Getting-started (2).png')\n",
        "\n",
        "hsv_image = cv2.cvtColor(image, cv2.COLOR_BGR2HSV)\n",
        "\n",
        "lower_hue = np.array([0, 50, 50], dtype=\"uint8\")\n",
        "upper_hue = np.array([30, 255, 255], dtype=\"uint8\")\n",
        "\n",
        "# Create a mask to detect both yellow and skin tones\n",
        "color_mask = cv2.inRange(hsv_image, lower_hue, upper_hue)\n",
        "\n",
        "# Check if any specified colors are detected in the image\n",
        "if np.any(color_mask):\n",
        "    print(\"Yellow or skin tone colors are detected in the image.\")\n",
        "else:\n",
        "    print(\"No yellow or skin tone colors detected in the image.\")"
      ]
    }
  ]
}