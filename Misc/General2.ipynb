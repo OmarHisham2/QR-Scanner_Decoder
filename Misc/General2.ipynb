{
 "cells": [
  {
   "cell_type": "markdown",
   "metadata": {},
   "source": [
    "<font style=\"font-size:1.4em\" color='Grey'>Imports</font>\n"
   ]
  },
  {
   "cell_type": "code",
   "execution_count": 16,
   "metadata": {},
   "outputs": [],
   "source": [
    "import cv2\n",
    "import numpy as np\n",
    "import matplotlib.pyplot as plt\n",
    "%matplotlib inline\n",
    "from colorama import Fore, Back, Style # Nice Colors"
   ]
  },
  {
   "cell_type": "markdown",
   "metadata": {},
   "source": [
    "<hr/>"
   ]
  },
  {
   "cell_type": "markdown",
   "metadata": {},
   "source": [
    "<font style=\"font-size:3.5em\" color='#FFEECF'>Misc. Functions</font>"
   ]
  },
  {
   "cell_type": "markdown",
   "metadata": {},
   "source": [
    "<font style=\"font-size:2em\" color='#D16C4B'>1: Load Image <b>Thresholded</b> </font>\n",
    "\n",
    "<font style=\"font-size:1.2em\" color='#C4FCF1'>Parameters : imgPath </font>\n",
    "\n",
    "<font style=\"font-size:1.2em\" color='#82AFFF'>Returns : Thresholded Image </font>\n"
   ]
  },
  {
   "cell_type": "code",
   "execution_count": 17,
   "metadata": {},
   "outputs": [],
   "source": [
    "def loadImageT(imgPath):\n",
    "    img = cv2.imread(imgPath) # 0 Because : We only need 1 color channel(?)\n",
    "    img = cv2.cvtColor(img,cv2.COLOR_BGR2GRAY)\n",
    "    _, thresh = cv2.threshold(img, 128, 255, cv2.THRESH_BINARY)\n",
    "    return thresh"
   ]
  },
  {
   "cell_type": "markdown",
   "metadata": {},
   "source": [
    "<font style=\"font-size:2em\" color='#D16C4B'>2: Remove QZ </font>\n",
    "\n",
    "<font style=\"font-size:1.2em\" color='#C4FCF1'>Parameters : img </font>\n",
    "\n",
    "<font style=\"font-size:1.2em\" color='#82AFFF'>Returns : IMG With QZ Removed </font>\n"
   ]
  },
  {
   "cell_type": "code",
   "execution_count": 18,
   "metadata": {},
   "outputs": [],
   "source": [
    "def removeQZ(img):\n",
    "    start_row = -1\n",
    "    start_col = -1\n",
    "    end_row = -1\n",
    "    end_col = -1\n",
    "\n",
    "    for row_index, row in enumerate(img):\n",
    "        for pixel in row:\n",
    "            if pixel != 255:\n",
    "                start_row = row_index\n",
    "                break\n",
    "        if start_row != -1:\n",
    "            break\n",
    "\n",
    "    for row_index, row in enumerate(img[::-1]):\n",
    "        for pixel in row:\n",
    "            if pixel != 255:\n",
    "                end_row = img.shape[0] - row_index\n",
    "                break\n",
    "        if end_row != -1:\n",
    "            break\n",
    "\n",
    "    for col_index, col in enumerate(cv2.transpose(img)):\n",
    "        for pixel in col:\n",
    "            if pixel != 255:\n",
    "                start_col = col_index\n",
    "                break\n",
    "        if start_col != -1:\n",
    "            break\n",
    "\n",
    "    for col_index, col in enumerate(cv2.transpose(img)[::-1]):\n",
    "        for pixel in col:\n",
    "            if pixel != 255:\n",
    "                end_col = img.shape[1] - col_index\n",
    "                break\n",
    "        if end_col != -1:\n",
    "            break\n",
    "    qr_no_quiet_zone = img[start_row:end_row, start_col:end_col]\n",
    "    return qr_no_quiet_zone"
   ]
  },
  {
   "cell_type": "markdown",
   "metadata": {},
   "source": [
    "<hr/>"
   ]
  },
  {
   "cell_type": "markdown",
   "metadata": {},
   "source": [
    "<font style=\"font-size:2.5em\" color='#FFEECF'>Misc. Functions <b>For Visualization Only</b></font>"
   ]
  },
  {
   "cell_type": "markdown",
   "metadata": {},
   "source": [
    "<font style=\"font-size:1.3em\" color='Grey'>To Draw : \n",
    "<ol> \n",
    "<li>Load RGB Image</li>\n",
    "<li>Get Contours</li>\n",
    "<li>Draw Contours</li>\n",
    "\n",
    "</font>"
   ]
  },
  {
   "cell_type": "markdown",
   "metadata": {},
   "source": [
    "<font style=\"font-size:2em\" color='#D16C4B'>4: Load Image <b>RGB</b> </font>\n",
    "\n",
    "<font style=\"font-size:1.2em\" color='#C4FCF1'>Parameters : imgPath </font>\n",
    "\n",
    "<font style=\"font-size:1.2em\" color='#82AFFF'>Returns : Image with 3 Color Channels</font>\n"
   ]
  },
  {
   "cell_type": "code",
   "execution_count": 19,
   "metadata": {},
   "outputs": [],
   "source": [
    "def loadImageRGB(imgPath):\n",
    "    img = cv2.imread(imgPath) \n",
    "    return img"
   ]
  },
  {
   "cell_type": "markdown",
   "metadata": {},
   "source": [
    "<font style=\"font-size:2em\" color='#D16C4B'>5: Get Contours </font>\n",
    "\n",
    "<font style=\"font-size:1.2em\" color='#C4FCF1'>Parameters : img(Thresholded) </font>\n",
    "\n",
    "<font style=\"font-size:1.2em\" color='#82AFFF'>Returns : Image's Contours </font>\n"
   ]
  },
  {
   "cell_type": "code",
   "execution_count": 20,
   "metadata": {},
   "outputs": [],
   "source": [
    "def getContours(img):\n",
    "    contours,heirarchy = cv2.findContours(img,cv2.RETR_TREE,cv2.CHAIN_APPROX_SIMPLE)\n",
    "    return contours"
   ]
  },
  {
   "cell_type": "markdown",
   "metadata": {},
   "source": [
    "<font style=\"font-size:2em\" color='#D16C4B'>6: Detect Position Patterns </font>\n",
    "\n",
    "<font style=\"font-size:1.2em\" color='#C4FCF1'>Parameters : imgPath </font>\n",
    "\n",
    "<font style=\"font-size:1.2em\" color='#82AFFF'>Returns : Detected Position Patterns [ Contours ] </font>"
   ]
  },
  {
   "cell_type": "code",
   "execution_count": 21,
   "metadata": {},
   "outputs": [],
   "source": [
    "def DetectPositionPattern(imgT):\n",
    "\n",
    "    img_width  = 1012\n",
    "    img_height = 1012\n",
    "\n",
    "    contours,heirarchy = cv2.findContours(imgT,cv2.RETR_TREE,cv2.CHAIN_APPROX_SIMPLE)\n",
    "\n",
    "    potential_boxes = ([])\n",
    "    for contour in contours:\n",
    "        x,y,w,h = cv2.boundingRect(contour)\n",
    "        aspect_ratio = float(w) / h\n",
    "        if abs(aspect_ratio - 1) > 0.2: # Aspect ratio should be close to 1 if it is a square-like or rectangular shape\n",
    "            continue # Not what we are looking for.\n",
    "        min_size = min(w, h)\n",
    "        if min_size < 0.1 * img_width:  # Img_width [Should] be the same for all images.          \n",
    "            continue                    \n",
    "                                        # If the Rectangle is TOO small -> It is not the locator box.\n",
    "                                        # Probably doesn't need to be a % of the image. ( Could just use some number )\n",
    "\n",
    "        center_x, center_y = (x + x + w) // 2, (y + y + h) // 2\n",
    "        image_center_x, image_center_y = img_width // 2, img_height // 2\n",
    "\n",
    "        # Check for top-left, top-right, or bottom-left corner based on relative position\n",
    "        is_top_left = center_x < image_center_x * 0.4 and center_y < image_center_y * 0.4\n",
    "        is_top_right = center_x > image_center_x * 1.6 and center_y < image_center_y * 0.4\n",
    "        is_bottom_left = center_x < image_center_x * 0.4 and center_y > image_center_y * 1.6\n",
    "\n",
    "\n",
    "        if not (is_top_left or is_top_right or is_bottom_left): # Wrong Place.\n",
    "            continue\n",
    "\n",
    "        # Potential locator box based on heuristics\n",
    "        potential_boxes.append(contour)\n",
    "    return potential_boxes"
   ]
  },
  {
   "cell_type": "markdown",
   "metadata": {},
   "source": [
    "<font style=\"font-size:2em\" color='#D16C4B'>7: Draw Contours </font>\n",
    "\n",
    "<font style=\"font-size:1.2em\" color='#C4FCF1'>Parameters : imgRGB,contours </font>\n",
    "\n",
    "<font style=\"font-size:1.2em\" color='#82AFFF'>Returns : An Image With Contours Drawn </font>"
   ]
  },
  {
   "cell_type": "code",
   "execution_count": 22,
   "metadata": {},
   "outputs": [],
   "source": [
    "def drawContours(imgRGB,contours):\n",
    "    for i in range(len(contours)):\n",
    "        cv2.drawContours(imgRGB,contours,i,(0,255,0),4)\n",
    "        i = i + 1\n",
    "    plt.imshow(imgRGB,cmap='gray')"
   ]
  },
  {
   "cell_type": "markdown",
   "metadata": {},
   "source": [
    "<hr/>"
   ]
  },
  {
   "cell_type": "code",
   "execution_count": 23,
   "metadata": {},
   "outputs": [],
   "source": [
    "def biggest_contour(contours):\n",
    "    biggest = np.array([])\n",
    "    max_area = 0\n",
    "    for i in contours:\n",
    "        area = cv2.contourArea(i)\n",
    "        if area > 1000:\n",
    "            peri = cv2.arcLength(i,True)\n",
    "            approx = cv2.approxPolyDP(i,0.015*peri,True)\n",
    "            if area > max_area and len(approx) == 4:\n",
    "                biggest = approx\n",
    "                max_area = area\n",
    "    return biggest"
   ]
  },
  {
   "cell_type": "code",
   "execution_count": 24,
   "metadata": {},
   "outputs": [],
   "source": [
    "def findBorders(contours):\n",
    "        # Initialize variables\n",
    "    min_x, min_y = float('inf'), float('inf')\n",
    "    max_x, max_y = float('-inf'), float('-inf')\n",
    "    top_right_y = float('inf')  # Track topmost Y for rightmost contender\n",
    "\n",
    "    for cnt in contours:\n",
    "        # Get bounding rectangle\n",
    "        x, y, w, h = cv2.boundingRect(cnt)\n",
    "\n",
    "        # Update minimum for top-left and bottom-left\n",
    "        min_x = min(min_x, x)\n",
    "        min_y = min(min_y, y)\n",
    "        max_y = max(max_y, y + h)  # Bottom-left Y is y + height\n",
    "\n",
    "        # Update maximum for top-right and bottom-right\n",
    "        rightmost_x = x + w\n",
    "        if rightmost_x > max_x:\n",
    "            max_x = rightmost_x\n",
    "            top_right_y = min(top_right_y, y)  # Update top-right Y if higher\n",
    "        bottom_right_x = x + w\n",
    "        bottom_right_y = y + h\n",
    "        max_x = max(max_x, bottom_right_x)\n",
    "        max_y = max(max_y, bottom_right_y)\n",
    "\n",
    "        # Top-left corner\n",
    "        top_left = (min_x, min_y)\n",
    "\n",
    "        # Top-right corner (considering both X and Y position)\n",
    "        top_right = (max_x, top_right_y)\n",
    "\n",
    "        # Bottom-right corner\n",
    "        bottom_right = (max_x, max_y)\n",
    "\n",
    "        # Bottom-left corner\n",
    "        bottom_left = (min_x, max_y)\n",
    "\n",
    "    # Use top_left, top_right, bottom_right, and bottom_left for further processing\n",
    "    print(\"Top-left:\", top_left)\n",
    "    print(\"Top-right:\", top_right)\n",
    "    print(\"Bottom-right:\", bottom_right)\n",
    "    print(\"Bottom-left:\", bottom_left)\n",
    "\n",
    "    return top_left, top_right, bottom_left, bottom_right"
   ]
  },
  {
   "cell_type": "markdown",
   "metadata": {},
   "source": [
    "<font style=\"font-size:5em\" color='#BD1E1E'>CHECKING FUNCTIONS -- <b>IMAGE PREPROCESSING </font>"
   ]
  },
  {
   "cell_type": "markdown",
   "metadata": {},
   "source": [
    "<font style=\"font-size:2em\" color='#D16C4B'>Is Image Skewed? </font>\n",
    "\n",
    "<font style=\"font-size:1.2em\" color='#C4FCF1'>Parameters : img path </font>\n",
    "\n",
    "<font style=\"font-size:1.2em\" color='#82AFFF'>Returns : True Or False </font>"
   ]
  },
  {
   "cell_type": "code",
   "execution_count": 25,
   "metadata": {},
   "outputs": [],
   "source": [
    "def isSkewed(imgpath):\n",
    "    image = cv2.imread(imgpath)\n",
    "    imageT = loadImageT(imgpath)\n",
    "\n",
    "    cnts = getContours(imageT)\n",
    "\n",
    "    filteredCNTS = DetectPositionPattern(imageT)\n",
    "\n",
    "    minTheta = 0\n",
    "\n",
    "    for cnt in filteredCNTS:\n",
    "        (x,y),(width,height),theta = cv2.minAreaRect(cnt)\n",
    "        theta = theta - 90\n",
    "        if(theta <= minTheta):\n",
    "            minTheta = theta\n",
    "    if (minTheta <= -5 and minTheta != -90):\n",
    "        return True # This Needs To Be Unskewed\n",
    "    return False"
   ]
  },
  {
   "cell_type": "markdown",
   "metadata": {},
   "source": [
    "<font style=\"font-size:2em\" color='#D16C4B'>Final Check -- Locator Boxes </font>\n",
    "\n",
    "<font style=\"font-size:1.2em\" color='#C4FCF1'>Parameters : img path </font>\n",
    "\n",
    "<font style=\"font-size:1.2em\" color='#82AFFF'>Returns : True Or False </font>"
   ]
  },
  {
   "cell_type": "code",
   "execution_count": 26,
   "metadata": {},
   "outputs": [],
   "source": [
    "def isValid(imgPath):\n",
    "    imgT = loadImageT(imgPath)\n",
    "    contours = getContours(imgT)\n",
    "    img_width  = 1012\n",
    "    img_height = 1012\n",
    "    potential_boxes = ([])\n",
    "    total_boxes = ([])\n",
    "    for contour in contours:\n",
    "        x,y,w,h = cv2.boundingRect(contour)\n",
    "        aspect_ratio = float(w) / h\n",
    "        if abs(aspect_ratio - 1) > 0.2: # Aspect ratio should be close to 1 if it is a square-like or rectangular shape\n",
    "            continue # Not what we are looking for.\n",
    "        min_size = min(w, h)\n",
    "        if min_size < 0.1 * img_width:  # Img_width [Should] be the same for all images.          \n",
    "            continue                    \n",
    "                                        # If the Rectangle is TOO small -> It is not the locator box.\n",
    "                                        # Probably doesn't need to be a % of the image. ( Could just use some number )\n",
    "\n",
    "        center_x, center_y = (x + x + w) // 2, (y + y + h) // 2\n",
    "        image_center_x, image_center_y = img_width // 2, img_height // 2\n",
    "\n",
    "        # Check for top-left, top-right, or bottom-left corner based on relative position\n",
    "        is_top_left = center_x < image_center_x * 0.4 and center_y < image_center_y * 0.4\n",
    "        is_top_right = center_x > image_center_x * 1.6 and center_y < image_center_y * 0.4\n",
    "        is_bottom_left = center_x < image_center_x * 0.4 and center_y > image_center_y * 1.6\n",
    "\n",
    "\n",
    "        if not (is_top_left or is_top_right or is_bottom_left): # Wrong Place.\n",
    "            total_boxes.append(contour)\n",
    "            continue\n",
    "\n",
    "        # Potential locator box based on heuristics\n",
    "        potential_boxes.append(contour)\n",
    "\n",
    "    if len(potential_boxes) == 9:\n",
    "        print(Fore.GREEN + 'Passed!')\n",
    "        return (True,0)\n",
    "    elif(len(potential_boxes) != len(total_boxes) == 9):\n",
    "        print(Fore.Orange + 'Boxes are there but placed incorrectly...')\n",
    "        return (False,1)            # 1 == All Boxes are there but placed incorrectly\n",
    "    else:\n",
    "        print(Fore.RED + 'Failed.')\n",
    "        print(Fore.YELLOW + 'Potential Boxes Found : '+ str(len(potential_boxes)))\n",
    "        return (False,2)            # 2 == Not All Boxes are There"
   ]
  },
  {
   "cell_type": "markdown",
   "metadata": {},
   "source": [
    "<hr/>"
   ]
  },
  {
   "cell_type": "markdown",
   "metadata": {},
   "source": [
    "<font style=\"font-size:5em\" color='#00FFFF'>APPLYING FUNCTIONS -- <b>IMAGE PROCESSING </font>"
   ]
  },
  {
   "cell_type": "markdown",
   "metadata": {},
   "source": [
    "<font style=\"font-size:2em\" color='#D16C4B'>Rotate Image <b> 90 Degrees</font>\n",
    "\n",
    "<font style=\"font-size:1.2em\" color='#C4FCF1'>Parameters : img path </font>\n",
    "\n",
    "<font style=\"font-size:1.2em\" color='#82AFFF'>Returns : rotated_Img </font>"
   ]
  },
  {
   "cell_type": "code",
   "execution_count": 27,
   "metadata": {},
   "outputs": [],
   "source": [
    "def rotateImg(img_path):\n",
    "    img = cv2.imread(img_path)\n",
    "    return cv2.rotate(img,cv2.ROTATE_90_CLOCKWISE)"
   ]
  },
  {
   "cell_type": "markdown",
   "metadata": {},
   "source": [
    "<font style=\"font-size:2em\" color='#D16C4B'>Invert Colors </font>\n",
    "\n",
    "<font style=\"font-size:1.2em\" color='#C4FCF1'>Parameters : img path </font>\n",
    "\n",
    "<font style=\"font-size:1.2em\" color='#82AFFF'>Returns : rotated_Img </font>"
   ]
  },
  {
   "cell_type": "code",
   "execution_count": 28,
   "metadata": {},
   "outputs": [],
   "source": [
    "def invertImg(img_path):\n",
    "    img = cv2.imread(img_path)\n",
    "    return cv2.bitwise_not(img) # Or 255 - img"
   ]
  },
  {
   "cell_type": "markdown",
   "metadata": {},
   "source": [
    "<hr/>"
   ]
  },
  {
   "cell_type": "markdown",
   "metadata": {},
   "source": [
    "<h1>Playground</h1>"
   ]
  },
  {
   "cell_type": "code",
   "execution_count": 34,
   "metadata": {},
   "outputs": [
    {
     "name": "stdout",
     "output_type": "stream",
     "text": [
      "\u001b[31mFailed.\n",
      "\u001b[33mPotential Boxes Found : 8\n"
     ]
    },
    {
     "data": {
      "text/plain": [
       "1012"
      ]
     },
     "execution_count": 34,
     "metadata": {},
     "output_type": "execute_result"
    },
    {
     "data": {
      "image/png": "[encoded data removed]",
      "text/plain": [
       "<Figure size 640x480 with 1 Axes>"
      ]
     },
     "metadata": {},
     "output_type": "display_data"
    }
   ],
   "source": [
    "img1  = 'TC/01.png'\n",
    "img2  = 'TC/02.png'\n",
    "img3  = 'TC/03.png'\n",
    "img4  = 'TC/04.png'\n",
    "img5  = 'TC/05.png'\n",
    "img6  = 'TC/06.png'\n",
    "img7  = 'TC/07.png'\n",
    "img8  = 'TC/08.png'\n",
    "img9  = 'TC/09.png'\n",
    "img10 = 'TC/10.png'\n",
    "img11 = 'TC/11.png'\n",
    "img12 = 'TC/12.png'\n",
    "img13 = 'TC/13.png'\n",
    "img14 = 'TC/14.png'\n",
    "\n",
    "imgPaths = [img1, img2, img3, img4, img5, img6, img7,img8,img9,img10,img11,img12,img13,img14]\n",
    "\n",
    "isValid('TC/07 - Copy.png')\n",
    "\n",
    "imgT = loadImageT('TC/07 - Copy.png')\n",
    "img = loadImageRGB('TC/07 - Copy.png')\n",
    "\n",
    "cnt = DetectPositionPattern(imgT)\n",
    "\n",
    "drawContours(img,cnt)\n",
    "\n",
    "img.shape[0]"
   ]
  },
  {
   "cell_type": "markdown",
   "metadata": {},
   "source": [
    "<h2>Warping</h2>"
   ]
  },
  {
   "cell_type": "code",
   "execution_count": 30,
   "metadata": {},
   "outputs": [
    {
     "ename": "NameError",
     "evalue": "name 'filterContours' is not defined",
     "output_type": "error",
     "traceback": [
      "\u001b[1;31m---------------------------------------------------------------------------\u001b[0m",
      "\u001b[1;31mNameError\u001b[0m                                 Traceback (most recent call last)",
      "Cell \u001b[1;32mIn[30], line 23\u001b[0m\n\u001b[0;32m     19\u001b[0m output \u001b[38;5;241m=\u001b[39m cv2\u001b[38;5;241m.\u001b[39mcvtColor(output1,cv2\u001b[38;5;241m.\u001b[39mCOLOR_BGR2GRAY)\n\u001b[0;32m     21\u001b[0m contours \u001b[38;5;241m=\u001b[39m getContours(output)\n\u001b[1;32m---> 23\u001b[0m \u001b[43mfilterContours\u001b[49m(contours)\n",
      "\u001b[1;31mNameError\u001b[0m: name 'filterContours' is not defined"
     ]
    }
   ],
   "source": [
    "img = cv2.imread('TC/06.png')\n",
    "\n",
    "\n",
    "topleft = (316,197)\n",
    "topright = (974,93)\n",
    "bottomleft=(60,953)\n",
    "bottomright=(719,847)\n",
    "\n",
    "width,height = 1012,1012\n",
    "\n",
    "\n",
    "pts1 = np.float32([[300,197],[974,93],[60,953],[719,847]])\n",
    "pts2 = np.float32([[0,0],[0,width],[height,0],[width,height]])\n",
    "\n",
    "\n",
    "\n",
    "matrix = cv2.getPerspectiveTransform(pts1,pts2)\n",
    "output1 = cv2.warpPerspective(img,matrix,(width,height))\n",
    "output = cv2.cvtColor(output1,cv2.COLOR_BGR2GRAY)\n",
    "\n",
    "contours = getContours(output)\n",
    "\n",
    "filterContours(contours)"
   ]
  },
  {
   "cell_type": "markdown",
   "metadata": {},
   "source": [
    "<h2>Rotating</h2>"
   ]
  },
  {
   "cell_type": "code",
   "execution_count": null,
   "metadata": {},
   "outputs": [
    {
     "name": "stdout",
     "output_type": "stream",
     "text": [
      "-8.259429931640625\n",
      "emad\n",
      "-8.259429931640625\n",
      "emad\n"
     ]
    }
   ],
   "source": [
    "image = cv2.imread('TC/02.png')\n",
    "imageT = loadImageT('TC/02.png')\n",
    "\n",
    "cnts = getContours(imageT)\n",
    "\n",
    "filteredCNTS = DetectPositionPattern(imageT)\n",
    "\n",
    "minTheta = 0\n",
    "\n",
    "(h, w) = image.shape[:2]\n",
    "\n",
    "center = (w // 2, h // 2)\n",
    "M = cv2.getRotationMatrix2D(center, minTheta, 1.0)\n",
    "rotated = cv2.warpAffine(image, M, (w, h), flags=cv2.INTER_CUBIC, borderMode=cv2.BORDER_REPLICATE)\n",
    "\n",
    "\n",
    "\n",
    "\n",
    "\n",
    "filename = 'newimage.png'\n",
    "cv2.imwrite(filename,rotated)\n",
    "\n",
    "newimg = loadImageT('TC/newimage.png')\n"
   ]
  },
  {
   "cell_type": "markdown",
   "metadata": {},
   "source": [
    "<h2>Checking Stuff</h2>"
   ]
  },
  {
   "cell_type": "code",
   "execution_count": null,
   "metadata": {},
   "outputs": [
    {
     "name": "stdout",
     "output_type": "stream",
     "text": [
      "Size before QZ Removal:  (1012, 1012, 3)\n",
      "Size after QZ Removal:  (924, 924)\n"
     ]
    },
    {
     "data": {
      "text/plain": [
       "88"
      ]
     },
     "execution_count": 334,
     "metadata": {},
     "output_type": "execute_result"
    },
    {
     "data": {
      "image/png": "[encoded data removed]",
      "text/plain": [
       "<Figure size 640x480 with 1 Axes>"
      ]
     },
     "metadata": {},
     "output_type": "display_data"
    }
   ],
   "source": [
    "img = cv2.imread('TC/01.png')\n",
    "imgT = loadImageT('TC/01.png')\n",
    "\n",
    "r1 = img.shape\n",
    "\n",
    "print('Size before QZ Removal: ',r1)\n",
    "\n",
    "img = removeQZ(imgT)\n",
    "\n",
    "plt.imshow(img,cmap='gray')\n",
    "\n",
    "r2 = img.shape\n",
    "print('Size after QZ Removal: ',r2)\n",
    "\n",
    "r1[0] - r2[0] # The amount of white space surrounding the QR Codes in 88 * 88"
   ]
  },
  {
   "cell_type": "code",
   "execution_count": null,
   "metadata": {},
   "outputs": [],
   "source": []
  }
 ],
 "metadata": {
  "kernelspec": {
   "display_name": "Python 3",
   "language": "python",
   "name": "python3"
  },
  "language_info": {
   "codemirror_mode": {
    "name": "ipython",
    "version": 3
   },
   "file_extension": ".py",
   "mimetype": "text/x-python",
   "name": "python",
   "nbconvert_exporter": "python",
   "pygments_lexer": "ipython3",
   "version": "3.12.1"
  }
 },
 "nbformat": 4,
 "nbformat_minor": 2
}
