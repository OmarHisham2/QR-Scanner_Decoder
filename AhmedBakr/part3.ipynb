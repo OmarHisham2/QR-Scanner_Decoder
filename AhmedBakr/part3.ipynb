{
 "cells": [
  {
   "cell_type": "code",
   "execution_count": 2,
   "metadata": {},
   "outputs": [
    {
     "ename": "NameError",
     "evalue": "name 'biggestContours' is not defined",
     "output_type": "error",
     "traceback": [
      "\u001b[1;31m---------------------------------------------------------------------------\u001b[0m",
      "\u001b[1;31mNameError\u001b[0m                                 Traceback (most recent call last)",
      "Cell \u001b[1;32mIn[2], line 20\u001b[0m\n\u001b[0;32m     15\u001b[0m contours,heirarchy \u001b[38;5;241m=\u001b[39m cv2\u001b[38;5;241m.\u001b[39mfindContours(thresh,cv2\u001b[38;5;241m.\u001b[39mRETR_TREE,cv2\u001b[38;5;241m.\u001b[39mCHAIN_APPROX_SIMPLE)\n\u001b[0;32m     18\u001b[0m contours\u001b[38;5;241m=\u001b[39m ut\u001b[38;5;241m.\u001b[39mlocatorContours2(image\u001b[38;5;241m=\u001b[39mimage,invertColors\u001b[38;5;241m=\u001b[39m\u001b[38;5;28;01mFalse\u001b[39;00m,showImages\u001b[38;5;241m=\u001b[39m\u001b[38;5;28;01mFalse\u001b[39;00m)\n\u001b[1;32m---> 20\u001b[0m locatorBoxes\u001b[38;5;241m=\u001b[39m\u001b[43mbiggestContours\u001b[49m(contours,numberOfContours\u001b[38;5;241m=\u001b[39m\u001b[38;5;241m3\u001b[39m)\n\u001b[0;32m     22\u001b[0m centerPoint\u001b[38;5;241m=\u001b[39mcomputeCenter(locatorBoxes)\n\u001b[0;32m     23\u001b[0m cv2\u001b[38;5;241m.\u001b[39mcircle(center\u001b[38;5;241m:=\u001b[39mimage\u001b[38;5;241m.\u001b[39mcopy(), centerPoint, \u001b[38;5;241m10\u001b[39m, (\u001b[38;5;241m0\u001b[39m, \u001b[38;5;241m255\u001b[39m, \u001b[38;5;241m0\u001b[39m), \u001b[38;5;241m-\u001b[39m\u001b[38;5;241m1\u001b[39m)\n",
      "\u001b[1;31mNameError\u001b[0m: name 'biggestContours' is not defined"
     ]
    }
   ],
   "source": [
    "import cv2 \n",
    "import numpy as np\n",
    "import pandas as pd\n",
    "import matplotlib.pyplot as plt\n",
    "%matplotlib inline\n",
    "import utils as ut\n",
    "\n",
    "imagePath='../TC\\\\06.png'\n",
    "image = cv2.imread(imagePath)\n",
    "# image = cv2.GaussianBlur(image, (5, 5), 0)\n",
    "# edges = cv2.Canny(image, 50, 150)\n",
    "# ut.showImage(edges)\n",
    "gray = cv2.cvtColor(image, cv2.COLOR_BGR2GRAY)\n",
    "_, thresh = cv2.threshold(gray, 0, 255, cv2.THRESH_BINARY | cv2.THRESH_OTSU)\n",
    "contours,heirarchy = cv2.findContours(thresh,cv2.RETR_TREE,cv2.CHAIN_APPROX_SIMPLE)\n",
    "\n",
    "\n",
    "contours= ut.locatorContours2(image=image,invertColors=False,showImages=False)\n",
    "\n",
    "locatorBoxes=biggestContours(contours,numberOfContours=3)\n",
    "\n",
    "centerPoint=computeCenter(locatorBoxes)\n",
    "cv2.circle(center:=image.copy(), centerPoint, 10, (0, 255, 0), -1)\n",
    "ut.showImage(ut.drawContourPoints(image.copy(),locatorBoxes))\n",
    "\n",
    "ut.showImage(center)\n",
    "\n",
    "for i,locatorbox in enumerate(locatorBoxes):  # order all points in the box\n",
    "    locatorBoxes[i]=ut.orderPoints(locatorbox)\n",
    "\n",
    "topLeft= topRight= bottomRight= bottomLeft = 0\n",
    "for locator in locatorBoxes:\n",
    "    x, y, w, h = cv2.boundingRect(locator)\n",
    "\n",
    "    # Calculate center point of the bounding box\n",
    "    center_x,center_y = x + w // 2,y + h // 2\n",
    "    \n",
    "    if center_x> centerPoint[0] and center_y< centerPoint[1]:\n",
    "        topRight=locator[1]\n",
    "    \n",
    "    # elif center_x> centerPoint[0] and center_y> centerPoint[1]:\n",
    "        # bottomRight=locator[3]\n",
    "    \n",
    "    elif center_x< centerPoint[0] and center_y< centerPoint[1]:\n",
    "        topLeft=locator[0]\n",
    "    \n",
    "    elif center_x< centerPoint[0] and center_y> centerPoint[1]:\n",
    "        bottomLeft=locator[2]\n",
    "\n",
    "cv2.circle(center, topRight.ravel(), 10, (0, 0, 255), -1)\n",
    "cv2.circle(center, bottomLeft.ravel(), 10, (0, 0, 255), -1)\n",
    "cv2.circle(center, topLeft.ravel(), 10, (0, 0, 255), -1)\n",
    "# cv2.circle(center, bottomRight.ravel(), 10, (0, 0, 255), -1)\n",
    "bottomRight=find_missing_point(topLeft,topRight,bottomLeft)\n",
    "bottomRight=(int(round(bottomRight[0])),int(round(bottomRight[1])))\n",
    "bottomRight=np.array([bottomRight])\n",
    "cv2.circle(center, bottomRight.ravel(), 10, (0, 0, 255), -1)\n",
    "\n",
    "width,height = 1012,1012\n",
    "\n",
    "\n",
    "pts1 = np.float32([topLeft.ravel(),topRight.ravel(),bottomLeft.ravel(),bottomRight.ravel()])\n",
    "pts2 = np.float32([[0,0],[0,width],[height,0],[width,height]])\n",
    "\n",
    "\n",
    "\n",
    "matrix = cv2.getPerspectiveTransform(pts1,pts2)\n",
    "output = cv2.warpPerspective(image,matrix,(width,height))\n",
    "\n",
    "cv2.imwrite('emad.png',output)\n",
    "\n",
    "ut.showImage(output)"
   ]
  }
 ],
 "metadata": {
  "kernelspec": {
   "display_name": "Python 3",
   "language": "python",
   "name": "python3"
  },
  "language_info": {
   "codemirror_mode": {
    "name": "ipython",
    "version": 3
   },
   "file_extension": ".py",
   "mimetype": "text/x-python",
   "name": "python",
   "nbconvert_exporter": "python",
   "pygments_lexer": "ipython3",
   "version": "3.11.2"
  }
 },
 "nbformat": 4,
 "nbformat_minor": 2
}
