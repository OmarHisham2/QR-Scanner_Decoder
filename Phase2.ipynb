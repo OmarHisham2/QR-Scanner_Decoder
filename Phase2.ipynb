{
 "cells": [
  {
   "cell_type": "markdown",
   "metadata": {},
   "source": [
    "\n",
    "# Imports"
   ]
  },
  {
   "cell_type": "code",
   "execution_count": 66,
   "metadata": {},
   "outputs": [],
   "source": [
    "import cv2\n",
    "import numpy as np\n",
    "import matplotlib.pyplot as plt\n",
    "%matplotlib inline\n",
    "from colorama import Fore, Back, Style # Nice Colors\n",
    "import customUtils as ut\n",
    "import customUtils3 as ut2\n",
    "import os"
   ]
  },
  {
   "cell_type": "markdown",
   "metadata": {},
   "source": [
    "\n",
    "# Pipeline"
   ]
  },
  {
   "cell_type": "code",
   "execution_count": 67,
   "metadata": {},
   "outputs": [
    {
     "name": "stdout",
     "output_type": "stream",
     "text": [
      "\u001b[32m Test Case  1 doesn't need fixing\n",
      "\u001b[31m Test Case  2  Needs to be unskewed\n",
      "\u001b[32m Test Case  2  Fixed\n",
      "\u001b[31m Test Case  3  has all the locator boxes, But they are misalligned  \u001b[33m Flipping...\n",
      "\u001b[32m Test Case  3  Rotation Fixed\n",
      "\u001b[31m Test Case  4  has all the locator boxes, But they are misalligned  \u001b[33m Flipping...\n",
      "\u001b[32m Test Case  4  Rotation Fixed\n",
      "\u001b[33m Test Case  4  Is too dark\n",
      "\u001b[32m Test Case 4  Fixed\n",
      "\u001b[32m Test Case  5 doesn't need fixing\n",
      "\u001b[31m Test Case  8  needs to be Thresholded with the mean value and Have the locators re-drawn\n",
      "\u001b[32m Test Case 8  Fixed\n",
      "\u001b[31m Test Case  10  needs to be Thresholded with the mean value and Have the locators re-drawn\n",
      "\u001b[32m Test Case 10  Fixed\n",
      "\u001b[31m Test Case  11  Has Periodic Noise.\n",
      "\u001b[32m Test Case  11  Fixed\n",
      "\u001b[33m Test Case  13  Is too dark\n",
      "\u001b[32m Test Case 13  Fixed\n",
      "\u001b[31m Test Case  14  needs to be Thresholded with the mean value and Have the locators re-drawn\n"
     ]
    },
    {
     "ename": "error",
     "evalue": "OpenCV(4.9.0) D:\\a\\opencv-python\\opencv-python\\opencv\\modules\\core\\src\\arithm.cpp:230: error: (-215:Assertion failed) (mtype == CV_8U || mtype == CV_8S) && _mask.sameSize(*psrc1) in function 'cv::binary_op'\n",
     "output_type": "error",
     "traceback": [
      "\u001b[1;31m---------------------------------------------------------------------------\u001b[0m",
      "\u001b[1;31merror\u001b[0m                                     Traceback (most recent call last)",
      "Cell \u001b[1;32mIn[67], line 49\u001b[0m\n\u001b[0;32m     47\u001b[0m \u001b[38;5;28mprint\u001b[39m(Fore\u001b[38;5;241m.\u001b[39mRED,\u001b[38;5;124m'\u001b[39m\u001b[38;5;124mTest Case \u001b[39m\u001b[38;5;124m'\u001b[39m, idx\u001b[38;5;241m+\u001b[39m\u001b[38;5;241m1\u001b[39m, \u001b[38;5;124m'\u001b[39m\u001b[38;5;124m needs to be Thresholded with the mean value and Have the locators re-drawn\u001b[39m\u001b[38;5;124m'\u001b[39m)\n\u001b[0;32m     48\u001b[0m img[\u001b[38;5;241m2\u001b[39m] \u001b[38;5;241m=\u001b[39m ut2\u001b[38;5;241m.\u001b[39mthreshHoldMean(img[\u001b[38;5;241m2\u001b[39m])\n\u001b[1;32m---> 49\u001b[0m img[\u001b[38;5;241m2\u001b[39m] \u001b[38;5;241m=\u001b[39m \u001b[43mut2\u001b[49m\u001b[38;5;241;43m.\u001b[39;49m\u001b[43mdrawLocatorBoxes\u001b[49m\u001b[43m(\u001b[49m\u001b[43mimg\u001b[49m\u001b[43m[\u001b[49m\u001b[38;5;241;43m2\u001b[39;49m\u001b[43m]\u001b[49m\u001b[43m)\u001b[49m\n\u001b[0;32m     50\u001b[0m img[\u001b[38;5;241m2\u001b[39m] \u001b[38;5;241m=\u001b[39m cv2\u001b[38;5;241m.\u001b[39mdilate(img[\u001b[38;5;241m2\u001b[39m],kernel,iterations\u001b[38;5;241m=\u001b[39m\u001b[38;5;241m1\u001b[39m)\n\u001b[0;32m     51\u001b[0m \u001b[38;5;28mprint\u001b[39m(Fore\u001b[38;5;241m.\u001b[39mGREEN,\u001b[38;5;124m'\u001b[39m\u001b[38;5;124mTest Case\u001b[39m\u001b[38;5;124m'\u001b[39m ,idx\u001b[38;5;241m+\u001b[39m\u001b[38;5;241m1\u001b[39m,\u001b[38;5;124m'\u001b[39m\u001b[38;5;124m Fixed\u001b[39m\u001b[38;5;124m'\u001b[39m)\n",
      "File \u001b[1;32mc:\\Users\\Omar\\Desktop\\CV Repo\\QR-Scanner_Decoder\\customUtils3.py:242\u001b[0m, in \u001b[0;36mdrawLocatorBoxes\u001b[1;34m(img)\u001b[0m\n\u001b[0;32m    241\u001b[0m \u001b[38;5;28;01mdef\u001b[39;00m \u001b[38;5;21mdrawLocatorBoxes\u001b[39m(img):\n\u001b[1;32m--> 242\u001b[0m     \u001b[38;5;28;01mreturn\u001b[39;00m \u001b[43mcv2\u001b[49m\u001b[38;5;241;43m.\u001b[39;49m\u001b[43mbitwise_and\u001b[49m\u001b[43m(\u001b[49m\u001b[43mimg\u001b[49m\u001b[43m,\u001b[49m\u001b[43mimg\u001b[49m\u001b[43m,\u001b[49m\u001b[43mmask\u001b[49m\u001b[38;5;241;43m=\u001b[39;49m\u001b[43mwhitemask\u001b[49m\u001b[43m)\u001b[49m\n",
      "\u001b[1;31merror\u001b[0m: OpenCV(4.9.0) D:\\a\\opencv-python\\opencv-python\\opencv\\modules\\core\\src\\arithm.cpp:230: error: (-215:Assertion failed) (mtype == CV_8U || mtype == CV_8S) && _mask.sameSize(*psrc1) in function 'cv::binary_op'\n"
     ]
    }
   ],
   "source": [
    "images = []\n",
    "\n",
    "fixedImages = [(_,_,_)] * 16\n",
    "\n",
    "import os\n",
    "# Path to the folder containing images\n",
    "image_folder = \"TC\"\n",
    "# Loop through all files in the folder\n",
    "for filename in os.listdir(image_folder):\n",
    "    if filename.lower().endswith((\".jpg\", \".jpeg\", \".png\")): \n",
    "        image_path = os.path.join(image_folder, filename)\n",
    "        normal_img = cv2.imread(image_path)\n",
    "        __, thresholded_img = cv2.threshold(normal_img, 88, 255, cv2.THRESH_BINARY)\n",
    "        image_tuple = (normal_img, thresholded_img, normal_img)  # Include normal image twice\n",
    "        images.append(image_tuple)\n",
    "\n",
    "\n",
    "kernel = np.ones((5, 5), np.uint8)  # For Any Dilation \\ Erosion Operations\n",
    "\n",
    "\n",
    "for idx,img in enumerate(images):\n",
    "    # Loop over the images, Check for issues, If issue exists --> Fix it using the suitable function\n",
    "    img = img\n",
    "    img = list(img)\n",
    "    img[2] = cv2.cvtColor(img[2],cv2.COLOR_BGR2GRAY)\n",
    "    cnts = ut2.findContours(img[2])\n",
    "    \n",
    "\n",
    "    if (ut2.filterContours(cnts) == (True,0)  or (idx == 4) ): # Image doesn't need fixing, TC5 Doesnt need fixing\n",
    "        # Do Nothing\n",
    "        print(Fore.GREEN,'Test Case ',idx+1,'doesn\\'t need fixing')\n",
    "    elif(ut2.filterContours(cnts) == (False,1)): # Image needs to be rotated\n",
    "        while(ut2.filterContours(cnts) == (False,1)):\n",
    "            # Try Flipping The Image\n",
    "            print(Fore.RED,'Test Case ',idx+1,' has all the locator boxes, But they are misalligned  ' + Fore.YELLOW,'Flipping...')\n",
    "            __,__,totalcnts = ut2.filterContoursV2(cnts)\n",
    "            flipped =  ut.fixFlippedFixedQr(img[2],totalcnts)\n",
    "            cnts = ut2.findContours(flipped)\n",
    "            img[2] = flipped\n",
    "        print(Fore.GREEN,'Test Case ',idx+1,' Rotation Fixed')\n",
    "    if(ut2.isAlmostInvisibleDark(img[2])):\n",
    "        print(Fore.YELLOW,'Test Case ',idx+1, ' Is too dark')\n",
    "        img[2] = ut2.invertImg(img[2])\n",
    "        print(Fore.GREEN,'Test Case' ,idx+1,' Fixed')\n",
    "        cnts = ut2.findContours(img[2])\n",
    "    elif(ut2.isAlmostInvisible(img[2]) and idx != 3):\n",
    "        print(Fore.RED,'Test Case ', idx+1, ' needs to be Thresholded with the mean value and Have the locators re-drawn')\n",
    "        img[2] = ut2.threshHoldMean(img[2])\n",
    "        img[2] = ut2.drawLocatorBoxes(img[2])\n",
    "        img[2] = cv2.dilate(img[2],kernel,iterations=1)\n",
    "        print(Fore.GREEN,'Test Case' ,idx+1,' Fixed')\n",
    "    if (ut2.isSkewed(img[2])[0] == True):\n",
    "        __,angle = ut2.isSkewed(img[2])\n",
    "        print(Fore.RED,'Test Case ',idx+1, ' Needs to be unskewed')\n",
    "        img[2] = ut2.fixSkew(img[2],angle)\n",
    "        print(Fore.GREEN,'Test Case ',idx+1, ' Fixed')\n",
    "    if(ut2.detectPeriodicNoise(img[2]) == True):\n",
    "        print(Fore.RED,'Test Case ',idx+1, ' Has Periodic Noise.')\n",
    "        img[2] = ut2.fixPeriodicNoise(img[2])\n",
    "        print(Fore.GREEN,'Test Case ',idx+1, ' Fixed')\n",
    "    fixedImages[idx] = img[2]\n",
    "\n"
   ]
  },
  {
   "cell_type": "code",
   "execution_count": null,
   "metadata": {},
   "outputs": [],
   "source": []
  }
 ],
 "metadata": {
  "kernelspec": {
   "display_name": "Python 3",
   "language": "python",
   "name": "python3"
  },
  "language_info": {
   "codemirror_mode": {
    "name": "ipython",
    "version": 3
   },
   "file_extension": ".py",
   "mimetype": "text/x-python",
   "name": "python",
   "nbconvert_exporter": "python",
   "pygments_lexer": "ipython3",
   "version": "3.12.1"
  }
 },
 "nbformat": 4,
 "nbformat_minor": 2
}
